{
 "cells": [
  {
   "cell_type": "code",
   "execution_count": 0,
   "metadata": {
    "application/vnd.databricks.v1+cell": {
     "cellMetadata": {
      "byteLimit": 2048000,
      "rowLimit": 10000
     },
     "inputWidgets": {},
     "nuid": "a44a715a-b3ed-460a-820d-cef3022a4906",
     "showTitle": false,
     "title": ""
    }
   },
   "outputs": [],
   "source": [
    "appId = dbutils.secrets.get(scope = \"ADXappIP\", key = \"ADBappIP\") \n",
    "appSecret = dbutils.secrets.get(scope = \"ADXappSecret\", key = \"ADBappSecret\") \n",
    "tenantId = dbutils.secrets.get(scope = \"tenantId\", key = \"tenantId\") \n",
    "\n",
    "configs = {\"fs.azure.account.auth.type\": \"OAuth\",\n",
    "        \"fs.azure.account.oauth.provider.type\": \"org.apache.hadoop.fs.azurebfs.oauth2.ClientCredsTokenProvider\",\n",
    "        \"fs.azure.account.oauth2.client.id\": appId,\n",
    "        \"fs.azure.account.oauth2.client.secret\": appSecret,\n",
    "        \"fs.azure.account.oauth2.client.endpoint\":  f\"https://login.microsoftonline.com/{tenantId}/oauth2/token\"}"
   ]
  },
  {
   "cell_type": "code",
   "execution_count": 0,
   "metadata": {
    "application/vnd.databricks.v1+cell": {
     "cellMetadata": {
      "byteLimit": 2048000,
      "rowLimit": 10000
     },
     "inputWidgets": {},
     "nuid": "7b02bf2b-f5f6-4edf-8ade-185e13b3fce3",
     "showTitle": false,
     "title": ""
    }
   },
   "outputs": [],
   "source": [
    "def sub_mount(str_path, str_mountPoint):\n",
    "    if any(mount.mountPoint == str_mountPoint for mount in dbutils.fs.mounts()):\n",
    "      print( \"--\")\n",
    "    else:\n",
    "      try:\n",
    "        dbutils.fs.mount(\n",
    "          source = str_path,\n",
    "          mount_point = str_mountPoint,\n",
    "          extra_configs = configs\n",
    "        )\n",
    "      except Exception as e:\n",
    "        print(f\"ERROR: {mountPoint} error.\")\n",
    "        \n",
    "def sub_unmount(str_path):\n",
    "  if any(mount.mountPoint == str_path for mount in dbutils.fs.mounts()):\n",
    "    dbutils.fs.unmount(str_path)\n",
    "\n",
    "def mount_exists( mp: str ):\n",
    "\n",
    "  returnValue = False\n",
    "\n",
    "  print( \"Mounting: \" + mp )\n",
    "  for m in dbutils.fs.mounts():\n",
    "      mountExists = (m.mountPoint==mp)\n",
    "      if mountExists:\n",
    "          returnValue = True\n",
    "          break\n",
    "\n",
    "  return returnValue\n"
   ]
  },
  {
   "cell_type": "code",
   "execution_count": 0,
   "metadata": {
    "application/vnd.databricks.v1+cell": {
     "cellMetadata": {
      "byteLimit": 2048000,
      "rowLimit": 10000
     },
     "inputWidgets": {},
     "nuid": "113e9a20-0f29-4381-a029-513af2bbfe33",
     "showTitle": false,
     "title": ""
    }
   },
   "outputs": [],
   "source": [
    "def exec_mount_container( containerName: str, storageAccountName: str ):\n",
    "\n",
    "    \"\"\" Establishes a mount point to /mnt\n",
    "\n",
    "        Parameters:  containerName:  The name of the Azure Data Lake Storage container passed in as a string\n",
    "                     storageAccountName:  The Azure Data Lake storage account name passed in as a string\n",
    "\n",
    "        Example:  mountPoint = exec_mount_container( \"myContainerName\", \"myStorageAccountName\" )             \n",
    "\n",
    "        Returns:  The mount point\n",
    "    \"\"\"\n",
    "\n",
    "    mountPoint = f\"/mnt/{containerName}\"\n",
    "\n",
    "    if mount_exists( mountPoint ):\n",
    "        print(f\"Mount point {mountPoint} already exists\")\n",
    "\n",
    "    else:\n",
    "        str_path = 'abfss://{}'.format(containerName)+'@'+'{}.dfs.core.windows.net/'.format(storageAccountName)\n",
    "        print(f\"Creating mount point {mountPoint} for \" + str_path)\n",
    "        sub_mount(str_path, mountPoint)\n",
    "\n",
    "    return mountPoint"
   ]
  }
 ],
 "metadata": {
  "application/vnd.databricks.v1+notebook": {
   "dashboards": [],
   "language": "python",
   "notebookMetadata": {
    "pythonIndentUnit": 4
   },
   "notebookName": "Mount",
   "notebookOrigID": 1112791980400691,
   "widgets": {}
  }
 },
 "nbformat": 4,
 "nbformat_minor": 0
}
